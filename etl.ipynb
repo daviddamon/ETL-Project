{
 "cells": [
  {
   "cell_type": "code",
   "execution_count": 37,
   "metadata": {},
   "outputs": [],
   "source": [
    "import pandas as pd\n",
    "from sqlalchemy import create_engine\n",
    "import numpy as np"
   ]
  },
  {
   "cell_type": "code",
   "execution_count": 38,
   "metadata": {},
   "outputs": [
    {
     "data": {
      "text/html": [
       "<div>\n",
       "<style scoped>\n",
       "    .dataframe tbody tr th:only-of-type {\n",
       "        vertical-align: middle;\n",
       "    }\n",
       "\n",
       "    .dataframe tbody tr th {\n",
       "        vertical-align: top;\n",
       "    }\n",
       "\n",
       "    .dataframe thead th {\n",
       "        text-align: right;\n",
       "    }\n",
       "</style>\n",
       "<table border=\"1\" class=\"dataframe\">\n",
       "  <thead>\n",
       "    <tr style=\"text-align: right;\">\n",
       "      <th></th>\n",
       "      <th>last_update</th>\n",
       "      <th>location_type</th>\n",
       "      <th>state</th>\n",
       "      <th>county_name</th>\n",
       "      <th>county_name_long</th>\n",
       "      <th>fips_code</th>\n",
       "      <th>lat</th>\n",
       "      <th>lon</th>\n",
       "      <th>nchs_urbanization</th>\n",
       "      <th>total_population</th>\n",
       "      <th>confirmed</th>\n",
       "      <th>confirmed_per_100000</th>\n",
       "      <th>deaths</th>\n",
       "      <th>deaths_per_100000</th>\n",
       "      <th>location</th>\n",
       "    </tr>\n",
       "  </thead>\n",
       "  <tbody>\n",
       "    <tr>\n",
       "      <th>0</th>\n",
       "      <td>2020-09-04 00:28:22 UTC</td>\n",
       "      <td>county</td>\n",
       "      <td>Alabama</td>\n",
       "      <td>Autauga</td>\n",
       "      <td>Autauga, Alabama, US</td>\n",
       "      <td>1001.0</td>\n",
       "      <td>32.539527</td>\n",
       "      <td>-86.644082</td>\n",
       "      <td>Medium metro</td>\n",
       "      <td>55200.0</td>\n",
       "      <td>1349</td>\n",
       "      <td>2443.84</td>\n",
       "      <td>23</td>\n",
       "      <td>41.67</td>\n",
       "      <td>POINT(-86.64408227 32.53952745)</td>\n",
       "    </tr>\n",
       "    <tr>\n",
       "      <th>1</th>\n",
       "      <td>2020-09-04 00:28:22 UTC</td>\n",
       "      <td>county</td>\n",
       "      <td>Alabama</td>\n",
       "      <td>Baldwin</td>\n",
       "      <td>Baldwin, Alabama, US</td>\n",
       "      <td>1003.0</td>\n",
       "      <td>30.727750</td>\n",
       "      <td>-87.722071</td>\n",
       "      <td>Small metro</td>\n",
       "      <td>208107.0</td>\n",
       "      <td>4495</td>\n",
       "      <td>2159.95</td>\n",
       "      <td>40</td>\n",
       "      <td>19.22</td>\n",
       "      <td>POINT(-87.72207058 30.72774991)</td>\n",
       "    </tr>\n",
       "    <tr>\n",
       "      <th>2</th>\n",
       "      <td>2020-09-04 00:28:22 UTC</td>\n",
       "      <td>county</td>\n",
       "      <td>Alabama</td>\n",
       "      <td>Barbour</td>\n",
       "      <td>Barbour, Alabama, US</td>\n",
       "      <td>1005.0</td>\n",
       "      <td>31.868263</td>\n",
       "      <td>-85.387129</td>\n",
       "      <td>Non-core</td>\n",
       "      <td>25782.0</td>\n",
       "      <td>614</td>\n",
       "      <td>2381.51</td>\n",
       "      <td>7</td>\n",
       "      <td>27.15</td>\n",
       "      <td>POINT(-85.3871286 31.868263)</td>\n",
       "    </tr>\n",
       "    <tr>\n",
       "      <th>3</th>\n",
       "      <td>2020-09-04 00:28:22 UTC</td>\n",
       "      <td>county</td>\n",
       "      <td>Alabama</td>\n",
       "      <td>Bibb</td>\n",
       "      <td>Bibb, Alabama, US</td>\n",
       "      <td>1007.0</td>\n",
       "      <td>32.996421</td>\n",
       "      <td>-87.125115</td>\n",
       "      <td>Large fringe metro</td>\n",
       "      <td>22527.0</td>\n",
       "      <td>542</td>\n",
       "      <td>2406.00</td>\n",
       "      <td>6</td>\n",
       "      <td>26.63</td>\n",
       "      <td>POINT(-87.1251146 32.99642064)</td>\n",
       "    </tr>\n",
       "    <tr>\n",
       "      <th>4</th>\n",
       "      <td>2020-09-04 00:28:22 UTC</td>\n",
       "      <td>county</td>\n",
       "      <td>Alabama</td>\n",
       "      <td>Blount</td>\n",
       "      <td>Blount, Alabama, US</td>\n",
       "      <td>1009.0</td>\n",
       "      <td>33.982109</td>\n",
       "      <td>-86.567906</td>\n",
       "      <td>Large fringe metro</td>\n",
       "      <td>57645.0</td>\n",
       "      <td>1037</td>\n",
       "      <td>1798.94</td>\n",
       "      <td>11</td>\n",
       "      <td>19.08</td>\n",
       "      <td>POINT(-86.56790593 33.98210918)</td>\n",
       "    </tr>\n",
       "  </tbody>\n",
       "</table>\n",
       "</div>"
      ],
      "text/plain": [
       "               last_update location_type    state county_name  \\\n",
       "0  2020-09-04 00:28:22 UTC        county  Alabama     Autauga   \n",
       "1  2020-09-04 00:28:22 UTC        county  Alabama     Baldwin   \n",
       "2  2020-09-04 00:28:22 UTC        county  Alabama     Barbour   \n",
       "3  2020-09-04 00:28:22 UTC        county  Alabama        Bibb   \n",
       "4  2020-09-04 00:28:22 UTC        county  Alabama      Blount   \n",
       "\n",
       "       county_name_long  fips_code        lat        lon   nchs_urbanization  \\\n",
       "0  Autauga, Alabama, US     1001.0  32.539527 -86.644082        Medium metro   \n",
       "1  Baldwin, Alabama, US     1003.0  30.727750 -87.722071         Small metro   \n",
       "2  Barbour, Alabama, US     1005.0  31.868263 -85.387129            Non-core   \n",
       "3     Bibb, Alabama, US     1007.0  32.996421 -87.125115  Large fringe metro   \n",
       "4   Blount, Alabama, US     1009.0  33.982109 -86.567906  Large fringe metro   \n",
       "\n",
       "   total_population  confirmed  confirmed_per_100000  deaths  \\\n",
       "0           55200.0       1349               2443.84      23   \n",
       "1          208107.0       4495               2159.95      40   \n",
       "2           25782.0        614               2381.51       7   \n",
       "3           22527.0        542               2406.00       6   \n",
       "4           57645.0       1037               1798.94      11   \n",
       "\n",
       "   deaths_per_100000                         location  \n",
       "0              41.67  POINT(-86.64408227 32.53952745)  \n",
       "1              19.22  POINT(-87.72207058 30.72774991)  \n",
       "2              27.15     POINT(-85.3871286 31.868263)  \n",
       "3              26.63   POINT(-87.1251146 32.99642064)  \n",
       "4              19.08  POINT(-86.56790593 33.98210918)  "
      ]
     },
     "execution_count": 38,
     "metadata": {},
     "output_type": "execute_result"
    }
   ],
   "source": [
    "# store CSV into DataFrame\n",
    "csv_file = \"resources/county_level_confirmed_cases.csv\"\n",
    "cases_df = pd.read_csv(csv_file)\n",
    "cases_df.head()"
   ]
  },
  {
   "cell_type": "code",
   "execution_count": 39,
   "metadata": {},
   "outputs": [
    {
     "data": {
      "text/html": [
       "<div>\n",
       "<style scoped>\n",
       "    .dataframe tbody tr th:only-of-type {\n",
       "        vertical-align: middle;\n",
       "    }\n",
       "\n",
       "    .dataframe tbody tr th {\n",
       "        vertical-align: top;\n",
       "    }\n",
       "\n",
       "    .dataframe thead th {\n",
       "        text-align: right;\n",
       "    }\n",
       "</style>\n",
       "<table border=\"1\" class=\"dataframe\">\n",
       "  <thead>\n",
       "    <tr style=\"text-align: right;\">\n",
       "      <th></th>\n",
       "      <th>last_update</th>\n",
       "      <th>fips_code</th>\n",
       "      <th>county_name</th>\n",
       "      <th>state</th>\n",
       "      <th>total_population</th>\n",
       "      <th>confirmed</th>\n",
       "      <th>confirmed_per_100000</th>\n",
       "      <th>deaths</th>\n",
       "      <th>deaths_per_100000</th>\n",
       "    </tr>\n",
       "  </thead>\n",
       "  <tbody>\n",
       "    <tr>\n",
       "      <th>0</th>\n",
       "      <td>2020-09-04 00:28:22 UTC</td>\n",
       "      <td>1001.0</td>\n",
       "      <td>Autauga</td>\n",
       "      <td>Alabama</td>\n",
       "      <td>55200.0</td>\n",
       "      <td>1349</td>\n",
       "      <td>2443.84</td>\n",
       "      <td>23</td>\n",
       "      <td>41.67</td>\n",
       "    </tr>\n",
       "    <tr>\n",
       "      <th>1</th>\n",
       "      <td>2020-09-04 00:28:22 UTC</td>\n",
       "      <td>1003.0</td>\n",
       "      <td>Baldwin</td>\n",
       "      <td>Alabama</td>\n",
       "      <td>208107.0</td>\n",
       "      <td>4495</td>\n",
       "      <td>2159.95</td>\n",
       "      <td>40</td>\n",
       "      <td>19.22</td>\n",
       "    </tr>\n",
       "    <tr>\n",
       "      <th>2</th>\n",
       "      <td>2020-09-04 00:28:22 UTC</td>\n",
       "      <td>1005.0</td>\n",
       "      <td>Barbour</td>\n",
       "      <td>Alabama</td>\n",
       "      <td>25782.0</td>\n",
       "      <td>614</td>\n",
       "      <td>2381.51</td>\n",
       "      <td>7</td>\n",
       "      <td>27.15</td>\n",
       "    </tr>\n",
       "    <tr>\n",
       "      <th>3</th>\n",
       "      <td>2020-09-04 00:28:22 UTC</td>\n",
       "      <td>1007.0</td>\n",
       "      <td>Bibb</td>\n",
       "      <td>Alabama</td>\n",
       "      <td>22527.0</td>\n",
       "      <td>542</td>\n",
       "      <td>2406.00</td>\n",
       "      <td>6</td>\n",
       "      <td>26.63</td>\n",
       "    </tr>\n",
       "    <tr>\n",
       "      <th>4</th>\n",
       "      <td>2020-09-04 00:28:22 UTC</td>\n",
       "      <td>1009.0</td>\n",
       "      <td>Blount</td>\n",
       "      <td>Alabama</td>\n",
       "      <td>57645.0</td>\n",
       "      <td>1037</td>\n",
       "      <td>1798.94</td>\n",
       "      <td>11</td>\n",
       "      <td>19.08</td>\n",
       "    </tr>\n",
       "  </tbody>\n",
       "</table>\n",
       "</div>"
      ],
      "text/plain": [
       "               last_update  fips_code county_name    state  total_population  \\\n",
       "0  2020-09-04 00:28:22 UTC     1001.0     Autauga  Alabama           55200.0   \n",
       "1  2020-09-04 00:28:22 UTC     1003.0     Baldwin  Alabama          208107.0   \n",
       "2  2020-09-04 00:28:22 UTC     1005.0     Barbour  Alabama           25782.0   \n",
       "3  2020-09-04 00:28:22 UTC     1007.0        Bibb  Alabama           22527.0   \n",
       "4  2020-09-04 00:28:22 UTC     1009.0      Blount  Alabama           57645.0   \n",
       "\n",
       "   confirmed  confirmed_per_100000  deaths  deaths_per_100000  \n",
       "0       1349               2443.84      23              41.67  \n",
       "1       4495               2159.95      40              19.22  \n",
       "2        614               2381.51       7              27.15  \n",
       "3        542               2406.00       6              26.63  \n",
       "4       1037               1798.94      11              19.08  "
      ]
     },
     "execution_count": 39,
     "metadata": {},
     "output_type": "execute_result"
    }
   ],
   "source": [
    "# create new data with select columns\n",
    "new_cases_df = cases_df[['last_update','fips_code', 'county_name', 'state', 'total_population', 'confirmed', 'confirmed_per_100000', 'deaths', 'deaths_per_100000']].copy()\n",
    "new_cases_df.head()"
   ]
  },
  {
   "cell_type": "code",
   "execution_count": 40,
   "metadata": {
    "scrolled": true
   },
   "outputs": [
    {
     "data": {
      "text/plain": [
       "last_update             3264\n",
       "fips_code               3254\n",
       "county_name             3264\n",
       "state                   3264\n",
       "total_population        3192\n",
       "confirmed               3264\n",
       "confirmed_per_100000    3192\n",
       "deaths                  3264\n",
       "deaths_per_100000       3192\n",
       "dtype: int64"
      ]
     },
     "execution_count": 40,
     "metadata": {},
     "output_type": "execute_result"
    }
   ],
   "source": [
    "# identify incomplete rows\n",
    "new_cases_df.count()"
   ]
  },
  {
   "cell_type": "code",
   "execution_count": 41,
   "metadata": {},
   "outputs": [
    {
     "data": {
      "text/plain": [
       "last_update             3254\n",
       "fips_code               3254\n",
       "county_name             3254\n",
       "state                   3254\n",
       "total_population        3192\n",
       "confirmed               3254\n",
       "confirmed_per_100000    3192\n",
       "deaths                  3254\n",
       "deaths_per_100000       3192\n",
       "dtype: int64"
      ]
     },
     "execution_count": 41,
     "metadata": {},
     "output_type": "execute_result"
    }
   ],
   "source": [
    "# drop rows without fips_code and verify dropped rows\n",
    "new_cases_df = new_cases_df.dropna(subset=['fips_code'])\n",
    "new_cases_df.count()"
   ]
  },
  {
   "cell_type": "code",
   "execution_count": 42,
   "metadata": {
    "scrolled": true
   },
   "outputs": [
    {
     "data": {
      "text/plain": [
       "last_update              object\n",
       "fips_code               float64\n",
       "county_name              object\n",
       "state                    object\n",
       "total_population        float64\n",
       "confirmed                 int64\n",
       "confirmed_per_100000    float64\n",
       "deaths                    int64\n",
       "deaths_per_100000       float64\n",
       "dtype: object"
      ]
     },
     "execution_count": 42,
     "metadata": {},
     "output_type": "execute_result"
    }
   ],
   "source": [
    "# check data types\n",
    "new_cases_df.dtypes"
   ]
  },
  {
   "cell_type": "code",
   "execution_count": 43,
   "metadata": {
    "scrolled": true
   },
   "outputs": [
    {
     "data": {
      "text/plain": [
       "0        1001\n",
       "1        1003\n",
       "2        1005\n",
       "3        1007\n",
       "4        1009\n",
       "        ...  \n",
       "3249    90051\n",
       "3250    90053\n",
       "3251    90054\n",
       "3252    90055\n",
       "3253    90056\n",
       "Name: fips_code, Length: 3254, dtype: int32"
      ]
     },
     "execution_count": 43,
     "metadata": {},
     "output_type": "execute_result"
    }
   ],
   "source": [
    "# change fips_code dtype to int64\n",
    "new_cases_df['fips_code'].astype('int')"
   ]
  },
  {
   "cell_type": "code",
   "execution_count": 36,
   "metadata": {},
   "outputs": [
    {
     "data": {
      "text/plain": [
       "last_update              object\n",
       "fips_code               float64\n",
       "county_name              object\n",
       "state                    object\n",
       "total_population        float64\n",
       "confirmed                 int64\n",
       "confirmed_per_100000    float64\n",
       "deaths                    int64\n",
       "deaths_per_100000       float64\n",
       "dtype: object"
      ]
     },
     "execution_count": 36,
     "metadata": {},
     "output_type": "execute_result"
    }
   ],
   "source": [
    "# check data types\n",
    "new_cases_df.dtypes"
   ]
  },
  {
   "cell_type": "code",
   "execution_count": 48,
   "metadata": {},
   "outputs": [
    {
     "data": {
      "text/html": [
       "<div>\n",
       "<style scoped>\n",
       "    .dataframe tbody tr th:only-of-type {\n",
       "        vertical-align: middle;\n",
       "    }\n",
       "\n",
       "    .dataframe tbody tr th {\n",
       "        vertical-align: top;\n",
       "    }\n",
       "\n",
       "    .dataframe thead th {\n",
       "        text-align: right;\n",
       "    }\n",
       "</style>\n",
       "<table border=\"1\" class=\"dataframe\">\n",
       "  <thead>\n",
       "    <tr style=\"text-align: right;\">\n",
       "      <th></th>\n",
       "      <th>last_update</th>\n",
       "      <th>fips_code</th>\n",
       "      <th>county_name</th>\n",
       "      <th>state</th>\n",
       "      <th>total_population</th>\n",
       "      <th>confirmed</th>\n",
       "      <th>confirmed_per_100000</th>\n",
       "      <th>deaths</th>\n",
       "      <th>deaths_per_100000</th>\n",
       "    </tr>\n",
       "  </thead>\n",
       "  <tbody>\n",
       "    <tr>\n",
       "      <th>0</th>\n",
       "      <td>2020-09-04 00:28:22 UTC</td>\n",
       "      <td>1001.0</td>\n",
       "      <td>Autauga</td>\n",
       "      <td>Alabama</td>\n",
       "      <td>55200.0</td>\n",
       "      <td>1349</td>\n",
       "      <td>2443.84</td>\n",
       "      <td>23</td>\n",
       "      <td>41.67</td>\n",
       "    </tr>\n",
       "    <tr>\n",
       "      <th>1</th>\n",
       "      <td>2020-09-04 00:28:22 UTC</td>\n",
       "      <td>1003.0</td>\n",
       "      <td>Baldwin</td>\n",
       "      <td>Alabama</td>\n",
       "      <td>208107.0</td>\n",
       "      <td>4495</td>\n",
       "      <td>2159.95</td>\n",
       "      <td>40</td>\n",
       "      <td>19.22</td>\n",
       "    </tr>\n",
       "    <tr>\n",
       "      <th>2</th>\n",
       "      <td>2020-09-04 00:28:22 UTC</td>\n",
       "      <td>1005.0</td>\n",
       "      <td>Barbour</td>\n",
       "      <td>Alabama</td>\n",
       "      <td>25782.0</td>\n",
       "      <td>614</td>\n",
       "      <td>2381.51</td>\n",
       "      <td>7</td>\n",
       "      <td>27.15</td>\n",
       "    </tr>\n",
       "    <tr>\n",
       "      <th>3</th>\n",
       "      <td>2020-09-04 00:28:22 UTC</td>\n",
       "      <td>1007.0</td>\n",
       "      <td>Bibb</td>\n",
       "      <td>Alabama</td>\n",
       "      <td>22527.0</td>\n",
       "      <td>542</td>\n",
       "      <td>2406.00</td>\n",
       "      <td>6</td>\n",
       "      <td>26.63</td>\n",
       "    </tr>\n",
       "    <tr>\n",
       "      <th>4</th>\n",
       "      <td>2020-09-04 00:28:22 UTC</td>\n",
       "      <td>1009.0</td>\n",
       "      <td>Blount</td>\n",
       "      <td>Alabama</td>\n",
       "      <td>57645.0</td>\n",
       "      <td>1037</td>\n",
       "      <td>1798.94</td>\n",
       "      <td>11</td>\n",
       "      <td>19.08</td>\n",
       "    </tr>\n",
       "  </tbody>\n",
       "</table>\n",
       "</div>"
      ],
      "text/plain": [
       "               last_update fips_code county_name    state  total_population  \\\n",
       "0  2020-09-04 00:28:22 UTC    1001.0     Autauga  Alabama           55200.0   \n",
       "1  2020-09-04 00:28:22 UTC    1003.0     Baldwin  Alabama          208107.0   \n",
       "2  2020-09-04 00:28:22 UTC    1005.0     Barbour  Alabama           25782.0   \n",
       "3  2020-09-04 00:28:22 UTC    1007.0        Bibb  Alabama           22527.0   \n",
       "4  2020-09-04 00:28:22 UTC    1009.0      Blount  Alabama           57645.0   \n",
       "\n",
       "   confirmed  confirmed_per_100000  deaths  deaths_per_100000  \n",
       "0       1349               2443.84      23              41.67  \n",
       "1       4495               2159.95      40              19.22  \n",
       "2        614               2381.51       7              27.15  \n",
       "3        542               2406.00       6              26.63  \n",
       "4       1037               1798.94      11              19.08  "
      ]
     },
     "execution_count": 48,
     "metadata": {},
     "output_type": "execute_result"
    }
   ],
   "source": [
    "# add leading zeros to the fips_code\n",
    "new_cases_df['fips_code']=new_cases_df['fips_code'].apply(lambda x: '{0:0>5}'.format(x))\n",
    "new_cases_df.head()"
   ]
  },
  {
   "cell_type": "code",
   "execution_count": null,
   "metadata": {},
   "outputs": [],
   "source": []
  },
  {
   "cell_type": "code",
   "execution_count": null,
   "metadata": {},
   "outputs": [],
   "source": []
  },
  {
   "cell_type": "code",
   "execution_count": null,
   "metadata": {},
   "outputs": [],
   "source": []
  },
  {
   "cell_type": "code",
   "execution_count": null,
   "metadata": {},
   "outputs": [],
   "source": []
  }
 ],
 "metadata": {
  "kernelspec": {
   "display_name": "Pythondata",
   "language": "python",
   "name": "pythondata"
  },
  "language_info": {
   "codemirror_mode": {
    "name": "ipython",
    "version": 3
   },
   "file_extension": ".py",
   "mimetype": "text/x-python",
   "name": "python",
   "nbconvert_exporter": "python",
   "pygments_lexer": "ipython3",
   "version": "3.6.10"
  }
 },
 "nbformat": 4,
 "nbformat_minor": 2
}
